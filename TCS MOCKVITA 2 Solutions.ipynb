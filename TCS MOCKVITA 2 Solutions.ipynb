{
 "cells": [
  {
   "cell_type": "markdown",
   "metadata": {},
   "source": [
    "# TCS MOCKVITA-2 (Season-9)\n",
    "The Solutions those I had done correctly"
   ]
  },
  {
   "cell_type": "markdown",
   "metadata": {},
   "source": [
    "# Solution of A(In Py-3)"
   ]
  },
  {
   "cell_type": "code",
   "execution_count": null,
   "metadata": {},
   "outputs": [],
   "source": [
    "n = int(input())\n",
    "bride = list(input())\n",
    "groom = list(input())\n",
    "c = 0\n",
    "for i in bride:\n",
    "\tx = 0\n",
    "\ty = 0\n",
    "\twhile x < len(groom):\n",
    "\t\tif i == groom[0]:\n",
    "\t\t\tgroom.pop(0)\n",
    "\t\t\tc += 1\n",
    "\t\t\tbreak\n",
    "\t\telse:\n",
    "\t\t\tgroom.append(groom.pop(0))\n",
    "\t\tif x == len(groom) - 1:\n",
    "\t\t\ty = 1\n",
    "\t\t\tbreak\n",
    "\t\tx += 1\n",
    "\tif y == 1:\n",
    "\t\tbreak\n",
    "print(n-c, end='')"
   ]
  },
  {
   "cell_type": "markdown",
   "metadata": {},
   "source": [
    "# Solution of B(In CPP)"
   ]
  },
  {
   "cell_type": "code",
   "execution_count": null,
   "metadata": {},
   "outputs": [],
   "source": [
    "#include<iostream>\n",
    "\n",
    "using namespace std;\n",
    "\n",
    "int bit_score(int n) {\n",
    " int a, b, c, largest, smallest;\n",
    " int score;\n",
    "\n",
    " a = n%10; n/=10;\n",
    " b = n%10; n/=10;\n",
    " c = n%10; n/=10;\n",
    "\n",
    " largest = (a>b)?a:b;\n",
    " largest = (c>largest)?c:largest;\n",
    " smallest = (a<b)?a:b;\n",
    " smallest = (c<smallest)?c:smallest;\n",
    "\n",
    " score = largest*11 + smallest*7;\n",
    "\n",
    " score = score % 100;\n",
    " return score;\n",
    "}\n",
    "\n",
    "int findPairs (int score_array[], int N) {\n",
    " int sig_dig[10], i, pairs = 0, msb;\n",
    "\n",
    " for(i=0; i<10; i++) {\n",
    "  sig_dig[i] = 0;\n",
    " }\n",
    "\n",
    " for(i=0; i<N; i=i+2) {\n",
    "  msb = score_array[i] / 10;\n",
    "        for(int j =i+2; j<N; j=j+2){\n",
    "            if(msb == score_array[j]/10){\n",
    "                if(sig_dig[msb] < 2) {\n",
    "           sig_dig[msb]++;\n",
    "          }\n",
    "            }\n",
    "        }\n",
    "  \n",
    " }\n",
    "    \n",
    "    for(i=1; i<N; i=i+2) {\n",
    "  msb = score_array[i] / 10;\n",
    "  for(int j =i+2; j<N; j=j+2){\n",
    "            if(msb == score_array[j]/10){\n",
    "                if(sig_dig[msb] < 2) {\n",
    "           sig_dig[msb]++;\n",
    "          }\n",
    "            }\n",
    "        }\n",
    " }\n",
    "\n",
    " for(i=0; i<10; i++) {\n",
    "  pairs = pairs + sig_dig[i];\n",
    " }\n",
    "\n",
    " return pairs;\n",
    "}\n",
    "\n",
    "\n",
    "int main() {\n",
    "\n",
    " int N, i;\n",
    " int ip_array[501];\n",
    " int score_array[501];\n",
    " int pairs;\n",
    " cin>>N;\n",
    "\n",
    " for(i=0; i<N; i++) {\n",
    "  cin>>ip_array[i];\n",
    " }\n",
    "\n",
    " for(i=0; i<N; i++) {\n",
    "  score_array[i] = bit_score(ip_array[i]);\n",
    " }\n",
    "\n",
    " pairs = findPairs(score_array, N);\n",
    " cout<<pairs;\n",
    "\n",
    " return 0;\n",
    "}"
   ]
  },
  {
   "cell_type": "markdown",
   "metadata": {},
   "source": [
    "# Solution of C(In CPP)"
   ]
  },
  {
   "cell_type": "code",
   "execution_count": null,
   "metadata": {},
   "outputs": [],
   "source": [
    "#include<bits/stdc++.h>\n",
    "using namespace std;\n",
    "#define ll long long int\n",
    "#define in 1000000000\n",
    "#define pb push_back\n",
    "#define mp make_pair\n",
    "#define IOS ios::sync_with_stdio(0); cin.tie(0); cout.tie(0);\n",
    "#define endl \"\\n\"\n",
    "#define you cout<<\"yo\"<<endl;\n",
    "#define debug(x) cerr << #x << \" is \" << x << endl;\n",
    "#define all(x) x.begin(),x.end()\n",
    "const int mod=1e9+7;\n",
    "int main(){\n",
    "IOS;\n",
    "ll p,q,r,s,i,j;\n",
    "cin>>p>>q>>r>>s;\n",
    "ll ans=0;\n",
    "for(i=p;i<=q;i++){\n",
    "    for(j=r;j<=s;j++){\n",
    "        ll x=max(i,j);\n",
    "        ll y=min(i,j);\n",
    "        while(x&&y){\n",
    "            ans+=(x/y);\n",
    "            x=x%y;\n",
    "            swap(x,y);\n",
    "        }\n",
    "    }\n",
    "}\n",
    "cout<<ans;\n",
    "}"
   ]
  },
  {
   "cell_type": "markdown",
   "metadata": {},
   "source": [
    "# Solution of F (Py-3)"
   ]
  },
  {
   "cell_type": "code",
   "execution_count": null,
   "metadata": {},
   "outputs": [],
   "source": [
    "from math import gcd,factorial\n",
    "def ncr(n,r):\n",
    "    return factorial(n)/(factorial(n-r)(factorial(r)))\n",
    "for i in range(int(input())):\n",
    "    a,h,l1,l2,m,c = [int(i) for i in input().split()]\n",
    "    num = 0\n",
    "    den = pow(l2,m)\n",
    "    if m(a+c) < h:\n",
    "        print(\"RIP\")\n",
    "    else:\n",
    "        k,z = 0,m*a\n",
    "        while z < h:\n",
    "            z += c\n",
    "            k += 1\n",
    "        for i in range(k,m+1):\n",
    "            if i == 0:\n",
    "                num += pow(l2 - l1,m)\n",
    "            elif i == m:\n",
    "                num += pow(l1,i)\n",
    "            else:\n",
    "                num += (pow(l1,i)*pow(l2-l1,m-i)*ncr(m,i))\n",
    "        x = gcd(int(num),den)\n",
    "        print(str(int(num/x))+\"/\"+str(int(den/x)))"
   ]
  }
 ],
 "metadata": {
  "kernelspec": {
   "display_name": "Python 3",
   "language": "python",
   "name": "python3"
  },
  "language_info": {
   "codemirror_mode": {
    "name": "ipython",
    "version": 3
   },
   "file_extension": ".py",
   "mimetype": "text/x-python",
   "name": "python",
   "nbconvert_exporter": "python",
   "pygments_lexer": "ipython3",
   "version": "3.7.4"
  }
 },
 "nbformat": 4,
 "nbformat_minor": 2
}
